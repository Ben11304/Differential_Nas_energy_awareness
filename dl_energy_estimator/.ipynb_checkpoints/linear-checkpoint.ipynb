{
 "cells": [
  {
   "cell_type": "code",
   "execution_count": 3,
   "id": "e18ae74c-7d6e-44fe-8dc8-d5c9f1a05c70",
   "metadata": {},
   "outputs": [
    {
     "name": "stdout",
     "output_type": "stream",
     "text": [
      "📌 Dự đoán năng lượng tiêu thụ: 0.00010873044505938875\n"
     ]
    },
    {
     "name": "stderr",
     "output_type": "stream",
     "text": [
      "/home/jupyter-iec_binhnguyen/Nas/darts_env/lib/python3.10/site-packages/sklearn/base.py:380: InconsistentVersionWarning: Trying to unpickle estimator LinearRegression from version 1.1.3 when using version 1.6.1. This might lead to breaking code or invalid results. Use at your own risk. For more info please refer to:\n",
      "https://scikit-learn.org/stable/model_persistence.html#security-maintainability-limitations\n",
      "  warnings.warn(\n",
      "/home/jupyter-iec_binhnguyen/Nas/darts_env/lib/python3.10/site-packages/sklearn/base.py:380: InconsistentVersionWarning: Trying to unpickle estimator StandardScaler from version 1.1.3 when using version 1.6.1. This might lead to breaking code or invalid results. Use at your own risk. For more info please refer to:\n",
      "https://scikit-learn.org/stable/model_persistence.html#security-maintainability-limitations\n",
      "  warnings.warn(\n",
      "/home/jupyter-iec_binhnguyen/Nas/darts_env/lib/python3.10/site-packages/sklearn/base.py:380: InconsistentVersionWarning: Trying to unpickle estimator MinMaxScaler from version 1.1.3 when using version 1.6.1. This might lead to breaking code or invalid results. Use at your own risk. For more info please refer to:\n",
      "https://scikit-learn.org/stable/model_persistence.html#security-maintainability-limitations\n",
      "  warnings.warn(\n"
     ]
    }
   ],
   "source": [
    "import pickle\n",
    "import numpy as np\n",
    "import pandas as pd\n",
    "import sys\n",
    "sys.path.append('../')\n",
    "from utils.data_utils import preprocess_and_normalize_energy_data, parse_codecarbon_output\n",
    "from utils.experiments_utils import split_data_set, fit_model, compute_log_transformed_features, apply_data_transforms, test_model\n",
    "param_cols = ['batch_size','input_size','output_size']\n",
    "# Tạo một sample để dự đoán\n",
    "sample = pd.DataFrame([{\n",
    "    \"batch_size\": 123,\n",
    "    \"image_size\": 127,\n",
    "    \"kernel_size\": 7,\n",
    "    \"input_size\":4,\n",
    "    \"output_size\":2,\n",
    "    \"in_channels\": 80,\n",
    "    \"out_channels\": 29,\n",
    "    \"stride\": 1,\n",
    "    \"padding\": 2\n",
    "}])\n",
    "sample=sample[param_cols]\n",
    "data_linear_with_log, param_cols_with_log = compute_log_transformed_features(sample, param_cols)\n",
    "data_linear_with_log['macs']=2.18534484e+11\n",
    "\n",
    "import pickle\n",
    "import numpy as np\n",
    "\n",
    "with open(\"./linear/linear_test_conv_model.pkl\", \"rb\") as f:\n",
    "    loaded_model = pickle.load(f)\n",
    "# Load transformers\n",
    "with open(\"./linear/x_transformer.pkl\", \"rb\") as f:\n",
    "    x_transformer = pickle.load(f)\n",
    "\n",
    "with open(\"./linear/y_transformer.pkl\", \"rb\") as f:\n",
    "    y_transformer = pickle.load(f)\n",
    "\n",
    "# # Load model\n",
    "# with open(\"trained_model.pkl\", \"rb\") as f:\n",
    "#     model = pickle.load(f)\n",
    "\n",
    "# Sample input\n",
    "# X_new = np.array([[32, 128, 3, 64, 1, 1, 0]])  # có 7 features như param_cols\n",
    "\n",
    "# Transform input\n",
    "X_new_transformed = x_transformer.transform(data_linear_with_log)\n",
    "\n",
    "# Dự đoán và inverse scale (nếu muốn)\n",
    "y_pred_scaled = loaded_model.predict(X_new_transformed)\n",
    "y_pred = y_transformer.inverse_transform(y_pred_scaled.reshape(-1, 1))\n",
    "\n",
    "print(f\"📌 Dự đoán năng lượng tiêu thụ: {y_pred[0][0]}\")\n"
   ]
  },
  {
   "cell_type": "code",
   "execution_count": null,
   "id": "99519b17-ca22-40d9-bb81-196742ef1ea2",
   "metadata": {},
   "outputs": [],
   "source": []
  },
  {
   "cell_type": "code",
   "execution_count": null,
   "id": "57872318-4ae3-4b5f-9579-fc8b64314d74",
   "metadata": {},
   "outputs": [],
   "source": []
  }
 ],
 "metadata": {
  "kernelspec": {
   "display_name": "Nas",
   "language": "python",
   "name": "myenv"
  },
  "language_info": {
   "codemirror_mode": {
    "name": "ipython",
    "version": 3
   },
   "file_extension": ".py",
   "mimetype": "text/x-python",
   "name": "python",
   "nbconvert_exporter": "python",
   "pygments_lexer": "ipython3",
   "version": "3.10.10"
  }
 },
 "nbformat": 4,
 "nbformat_minor": 5
}
